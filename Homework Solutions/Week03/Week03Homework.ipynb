{
 "cells": [
  {
   "cell_type": "code",
   "execution_count": 1,
   "metadata": {},
   "outputs": [],
   "source": [
    "import numpy as np"
   ]
  },
  {
   "cell_type": "code",
   "execution_count": 2,
   "metadata": {},
   "outputs": [
    {
     "name": "stdout",
     "output_type": "stream",
     "text": [
      "[['name' 'mfr' 'type' ... 'weight' 'cups' 'rating']\n",
      " ['100% Bran' 'N' 'C' ... '1' '0.33' '68.402973']\n",
      " ['100% Natural Bran' 'Q' 'C' ... '1' '1' '33.983679']\n",
      " ...\n",
      " ['Wheat Chex' 'R' 'C' ... '1' '0.67' '49.787445']\n",
      " ['Wheaties' 'G' 'C' ... '1' '1' '51.592193']\n",
      " ['Wheaties Honey Gold' 'G' 'C' ... '1' '0.75' '36.187559']]\n"
     ]
    }
   ],
   "source": [
    "# Load the cereal data\n",
    "raw_data = np.loadtxt(\"cereal.csv\",dtype=\"str\",delimiter=\",\")\n",
    "print(raw_data)"
   ]
  },
  {
   "cell_type": "code",
   "execution_count": 3,
   "metadata": {},
   "outputs": [],
   "source": [
    "feature_names = raw_data[0,:] "
   ]
  },
  {
   "cell_type": "code",
   "execution_count": 4,
   "metadata": {},
   "outputs": [],
   "source": [
    "data = raw_data[1:, : ]"
   ]
  },
  {
   "cell_type": "code",
   "execution_count": 5,
   "metadata": {},
   "outputs": [],
   "source": [
    "# Calculate sugar per ounce\n",
    "sugar_per_serving = data[:, (feature_names == \"sugars\")].astype(float)\n",
    "\n",
    "ounce_per_serving = data[:, (feature_names == \"weight\")].astype(float)\n",
    "sugar_per_ounce = sugar_per_serving / ounce_per_serving\n"
   ]
  },
  {
   "cell_type": "code",
   "execution_count": 6,
   "metadata": {},
   "outputs": [
    {
     "name": "stdout",
     "output_type": "stream",
     "text": [
      "Name of products: ['All-Bran with Extra Fiber' 'Cream of Wheat (Quick)' 'Puffed Rice'\n",
      " 'Puffed Wheat' 'Shredded Wheat' \"Shredded Wheat 'n'Bran\"\n",
      " 'Shredded Wheat spoon size']\n"
     ]
    }
   ],
   "source": [
    "# 1. Sugar \n",
    "#     which product has the least amount of sugar per once?\n",
    "print(\"Name of products:\", data[np.where(sugar_per_ounce == 0), 0][0])\n"
   ]
  },
  {
   "cell_type": "code",
   "execution_count": 7,
   "metadata": {},
   "outputs": [
    {
     "name": "stdout",
     "output_type": "stream",
     "text": [
      "Average sugar per ounce: 6.555489623158796\n"
     ]
    }
   ],
   "source": [
    "# What is the average amount of sugar per ounce?\n",
    "print('Average sugar per ounce:', sugar_per_ounce.mean())"
   ]
  },
  {
   "cell_type": "code",
   "execution_count": 8,
   "metadata": {},
   "outputs": [
    {
     "name": "stdout",
     "output_type": "stream",
     "text": [
      "Highest calories per gram: 5.291005291005291\n",
      "Name of this product: Muesli Raisins; Dates; & Almonds\n"
     ]
    }
   ],
   "source": [
    "# 2. Calories\n",
    "    # Calculate the calories per gram for each cereal product\n",
    "calories_per_serving =  data[:, (feature_names == \"calories\")].astype(float)\n",
    "grams_per_serving = ounce_per_serving * 28.35  # Calculate the grams\n",
    "\n",
    "calories_per_gram = calories_per_serving / grams_per_serving\n",
    "# print(calories_per_gram)\n",
    "\n",
    "    # Identify product with the highest value of calories per gram\n",
    "print(\"Highest calories per gram:\", calories_per_gram.max())\n",
    "print(\"Name of this product:\", data[np.argmax(calories_per_gram), 0])"
   ]
  },
  {
   "cell_type": "code",
   "execution_count": 9,
   "metadata": {},
   "outputs": [
    {
     "name": "stdout",
     "output_type": "stream",
     "text": [
      "Lowest calories per gram: 1.763668430335097\n",
      "Name of this product: All-Bran with Extra Fiber\n"
     ]
    }
   ],
   "source": [
    "\n",
    "    # Identify product with the lowest value of calories per gram\n",
    "print(\"Lowest calories per gram:\", calories_per_gram.min())\n",
    "print(\"Name of this product:\", data[np.argmin(calories_per_gram), 0])"
   ]
  },
  {
   "cell_type": "code",
   "execution_count": 10,
   "metadata": {},
   "outputs": [
    {
     "name": "stdout",
     "output_type": "stream",
     "text": [
      "Hightest rated cereal: \n",
      "['Shredded Wheat' '100% Bran' 'Shredded Wheat spoon size'\n",
      " \"Shredded Wheat 'n'Bran\" 'All-Bran with Extra Fiber']\n"
     ]
    }
   ],
   "source": [
    "# 3 Ratings\n",
    "#     Five Hightest-rated cereal product using np.argsort()\n",
    "\n",
    "# cereal ratings\n",
    "cereal_rating = data[:, -1].astype(float)\n",
    "sorted_rating = np.argsort(cereal_rating) # Sorted the list by index, lowest to highest\n",
    "five_higest_rated = sorted_rating[-5:]    # Get last five index\n",
    "\n",
    "print(\"Hightest rated cereal: \")\n",
    "print(data[five_higest_rated, 0])"
   ]
  },
  {
   "cell_type": "code",
   "execution_count": null,
   "metadata": {},
   "outputs": [],
   "source": []
  }
 ],
 "metadata": {
  "kernelspec": {
   "display_name": "Python 3",
   "language": "python",
   "name": "python3"
  },
  "language_info": {
   "codemirror_mode": {
    "name": "ipython",
    "version": 3
   },
   "file_extension": ".py",
   "mimetype": "text/x-python",
   "name": "python",
   "nbconvert_exporter": "python",
   "pygments_lexer": "ipython3",
   "version": "3.7.3"
  }
 },
 "nbformat": 4,
 "nbformat_minor": 2
}
